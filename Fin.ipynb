{
 "cells": [
  {
   "cell_type": "markdown",
   "id": "f5048d8b",
   "metadata": {},
   "source": [
    "## Tools For Data Science"
   ]
  },
  {
   "cell_type": "markdown",
   "id": "f6889ef0",
   "metadata": {},
   "source": [
    "### This is my submission for the \"IBM Tools for Data Science\" peer graded assignment.\n",
    "###"
   ]
  },
  {
   "cell_type": "markdown",
   "id": "0d9b7c56",
   "metadata": {},
   "source": [
    "## Objectives\n",
    "\n",
    "### To Complete The all the listed tasks in the assignment"
   ]
  },
  {
   "cell_type": "markdown",
   "id": "f81eb3c6",
   "metadata": {},
   "source": [
    "### The most commonly used Data Science Languages are :\n",
    "##### Python\n",
    "##### R\n",
    "##### Julia"
   ]
  },
  {
   "cell_type": "markdown",
   "id": "123cd45c",
   "metadata": {},
   "source": [
    "### Data Science Libraries:\n",
    "##### NumPy: A library for scientific computing with Python.\n",
    "##### Pandas: A library for data manipulation and analysis.\n",
    "##### Matplotlib: A library for data visualization.\n",
    "##### Scikit-learn: A library for machine learning.\n",
    "##### Seaborn: A library for statistical graphics.\n",
    "##### TensorFlow: A library for deep learning.\n",
    "##### PyTorch: A library for deep learning."
   ]
  },
  {
   "cell_type": "markdown",
   "id": "63d5aae6",
   "metadata": {},
   "source": [
    "### Data Science Tools: \n",
    "##### Jupyter Notebook\n",
    "##### Visual Studio Code\n",
    "##### Apache\n",
    "##### Anaconda"
   ]
  },
  {
   "cell_type": "markdown",
   "id": "950deef5",
   "metadata": {},
   "source": [
    "### Arithmetic Expression Examples\n",
    "\n",
    "* $5 + 3 = 8$\n",
    "* $10 - 2 = 8$\n",
    "* $12 \\times 3 = 36$\n",
    "* $24 \\div 4 = 6$\n"
   ]
  },
  {
   "cell_type": "code",
   "execution_count": 2,
   "id": "26c2054f",
   "metadata": {},
   "outputs": [
    {
     "name": "stdout",
     "output_type": "stream",
     "text": [
      "sum= 11\n",
      "Product= 30\n"
     ]
    }
   ],
   "source": [
    "a = 5\n",
    "b = 6\n",
    "\n",
    "mult = a*b\n",
    "s = a+b\n",
    "\n",
    "print(\"sum=\",s)\n",
    "print(\"Product=\",mult)"
   ]
  },
  {
   "cell_type": "code",
   "execution_count": 3,
   "id": "34e9ccfe",
   "metadata": {},
   "outputs": [
    {
     "name": "stdout",
     "output_type": "stream",
     "text": [
      "Minutes in hours = 4.0\n"
     ]
    }
   ],
   "source": [
    "minutes= 240\n",
    "hours = minutes/60\n",
    "print(\"Minutes in hours =\",hours)"
   ]
  },
  {
   "cell_type": "code",
   "execution_count": null,
   "id": "0591f77e",
   "metadata": {},
   "outputs": [],
   "source": []
  }
 ],
 "metadata": {
  "kernelspec": {
   "display_name": "Python 3 (ipykernel)",
   "language": "python",
   "name": "python3"
  },
  "language_info": {
   "codemirror_mode": {
    "name": "ipython",
    "version": 3
   },
   "file_extension": ".py",
   "mimetype": "text/x-python",
   "name": "python",
   "nbconvert_exporter": "python",
   "pygments_lexer": "ipython3",
   "version": "3.10.9"
  }
 },
 "nbformat": 4,
 "nbformat_minor": 5
}
